{
 "cells": [
  {
   "cell_type": "markdown",
   "metadata": {},
   "source": [
    "# Pre-requierments"
   ]
  },
  {
   "cell_type": "code",
   "execution_count": 1,
   "metadata": {},
   "outputs": [],
   "source": [
    "import warnings\n",
    "warnings.filterwarnings('ignore')\n",
    "import numpy as np\n",
    "import pandas as pd\n",
    "import matplotlib.pyplot as plt\n",
    "import seaborn as sns\n",
    "sns.set(color_codes=True)"
   ]
  },
  {
   "cell_type": "code",
   "execution_count": 2,
   "metadata": {},
   "outputs": [],
   "source": [
    "df = pd.read_csv('flat.csv', sep='\\t')\n",
    "y = df[['cost']]\n",
    "X = df[['district', 'total_area', 'repair', 'year', 'distance']]"
   ]
  },
  {
   "cell_type": "code",
   "execution_count": 3,
   "metadata": {},
   "outputs": [],
   "source": [
    "from sklearn.model_selection import train_test_split\n",
    "x_train, X_test, y_train, y_test = train_test_split(X, y, test_size=0.2, random_state=42)"
   ]
  },
  {
   "cell_type": "markdown",
   "metadata": {},
   "source": [
    "# Linear model"
   ]
  },
  {
   "cell_type": "code",
   "execution_count": 4,
   "metadata": {},
   "outputs": [
    {
     "name": "stdout",
     "output_type": "stream",
     "text": [
      "Accuracy for LinearRegression - 0.6865328725878797\n"
     ]
    }
   ],
   "source": [
    "from sklearn.model_selection import  cross_val_score\n",
    "from sklearn.metrics import r2_score\n",
    "from sklearn import linear_model\n",
    "model = linear_model.LinearRegression()\n",
    "model.fit(x_train, y_train)\n",
    "predicted = model.predict(X_test)\n",
    "accuracy = r2_score(y_test, predicted)\n",
    "regressor_name = model.__class__.__name__\n",
    "print(f'Accuracy for {regressor_name} - {accuracy}')"
   ]
  },
  {
   "cell_type": "code",
   "execution_count": 5,
   "metadata": {},
   "outputs": [
    {
     "data": {
      "text/plain": [
       "Text(0.5,1,'LinearRegression\\nDetermination-0.687')"
      ]
     },
     "execution_count": 5,
     "metadata": {},
     "output_type": "execute_result"
    },
    {
     "data": {
      "image/png": "[encoded data removed]",
      "text/plain": [
       "<matplotlib.figure.Figure at 0x7ffa8bcf1a58>"
      ]
     },
     "metadata": {},
     "output_type": "display_data"
    }
   ],
   "source": [
    "from collections import Counter\n",
    "errors = np.round(np.abs(1 - predicted / y_test['cost'].values) * 100, 0)\n",
    "mean_error = np.mean(errors)\n",
    "max_error = errors.max()\n",
    "min_error = errors.min()\n",
    "\n",
    "errors = [x[0] for x in errors]\n",
    "c = Counter([x for x in errors])\n",
    "data = {'error': list(c.keys()), 'count': list(c.values())}\n",
    "df = pd.DataFrame.from_dict(data)\n",
    "sns.lmplot('count', 'error', data=df, fit_reg=False, markers=[\".\"])\n",
    "ax = plt.gca()\n",
    "ax.set_title(f'{regressor_name}\\nDetermination-{round(accuracy,3)}')"
   ]
  },
  {
   "cell_type": "markdown",
   "metadata": {},
   "source": [
    "# More complex model"
   ]
  },
  {
   "cell_type": "code",
   "execution_count": 6,
   "metadata": {},
   "outputs": [
    {
     "name": "stdout",
     "output_type": "stream",
     "text": [
      "Accuracy for AdaBoostRegressor - 0.6788864122735636\n"
     ]
    },
    {
     "data": {
      "text/plain": [
       "Text(0.5,1,'AdaBoostRegressor\\nDetermination-0.679')"
      ]
     },
     "execution_count": 6,
     "metadata": {},
     "output_type": "execute_result"
    },
    {
     "data": {
      "image/png": "[encoded data removed]",
      "text/plain": [
       "<matplotlib.figure.Figure at 0x7ffa88a4ca58>"
      ]
     },
     "metadata": {},
     "output_type": "display_data"
    }
   ],
   "source": [
    "from sklearn.ensemble import AdaBoostRegressor\n",
    "from sklearn.tree import DecisionTreeRegressor\n",
    "model = AdaBoostRegressor(DecisionTreeRegressor(random_state=0), random_state=0)\n",
    "model.fit(x_train, y_train)\n",
    "predicted = model.predict(X_test)\n",
    "accuracy = r2_score(y_test, predicted)\n",
    "regressor_name = model.__class__.__name__\n",
    "print(f'Accuracy for {regressor_name} - {accuracy}')\n",
    "\n",
    "errors = np.round(np.abs(1 - predicted / y_test['cost'].values) * 100, 0)\n",
    "mean_error = np.mean(errors)\n",
    "max_error = errors.max()\n",
    "min_error = errors.min()\n",
    "c = Counter([x for x in errors])\n",
    "data = {'error': list(c.keys()), 'count': list(c.values())}\n",
    "df = pd.DataFrame.from_dict(data)\n",
    "sns.lmplot('count', 'error', data=df, fit_reg=False, markers=[\".\"])\n",
    "ax = plt.gca()\n",
    "ax.set_title(f'{regressor_name}\\nDetermination-{round(accuracy,3)}')"
   ]
  },
  {
   "cell_type": "markdown",
   "metadata": {},
   "source": [
    "# Popular model"
   ]
  },
  {
   "cell_type": "code",
   "execution_count": 7,
   "metadata": {},
   "outputs": [
    {
     "name": "stdout",
     "output_type": "stream",
     "text": [
      "Accuracy for XGBRegressor - 0.6958413104623966\n"
     ]
    },
    {
     "data": {
      "text/plain": [
       "Text(0.5,1,'XGBRegressor\\nDetermination-0.696')"
      ]
     },
     "execution_count": 7,
     "metadata": {},
     "output_type": "execute_result"
    },
    {
     "data": {
      "image/png": "[encoded data removed]",
      "text/plain": [
       "<matplotlib.figure.Figure at 0x7ffa88a43f98>"
      ]
     },
     "metadata": {},
     "output_type": "display_data"
    }
   ],
   "source": [
    "import xgboost as xgb\n",
    "model = xgb.XGBRegressor(random_state=0)\n",
    "model.fit(x_train, y_train)\n",
    "predicted = model.predict(X_test)\n",
    "accuracy = r2_score(y_test, predicted)\n",
    "regressor_name = model.__class__.__name__\n",
    "print(f'Accuracy for {regressor_name} - {accuracy}')\n",
    "errors = np.round(np.abs(1 - predicted / y_test['cost'].values) * 100, 0)\n",
    "mean_error = np.mean(errors)\n",
    "max_error = errors.max()\n",
    "min_error = errors.min()\n",
    "c = Counter([x for x in errors])\n",
    "data = {'error': list(c.keys()), 'count': list(c.values())}\n",
    "df = pd.DataFrame.from_dict(data)\n",
    "sns.lmplot('count', 'error', data=df, fit_reg=False, markers=[\".\"])\n",
    "ax = plt.gca()\n",
    "ax.set_title(f'{regressor_name}\\nDetermination-{round(accuracy,3)}')"
   ]
  },
  {
   "cell_type": "markdown",
   "metadata": {},
   "source": [
    "# From Russia with Love"
   ]
  },
  {
   "cell_type": "code",
   "execution_count": 8,
   "metadata": {},
   "outputs": [
    {
     "name": "stdout",
     "output_type": "stream",
     "text": [
      "Accuracy for CatBoostRegressor - 0.6990870875803248\n"
     ]
    },
    {
     "data": {
      "text/plain": [
       "Text(0.5,1,'CatBoostRegressor\\nDetermination-0.699')"
      ]
     },
     "execution_count": 8,
     "metadata": {},
     "output_type": "execute_result"
    },
    {
     "data": {
      "image/png": "[encoded data removed]",
      "text/plain": [
       "<matplotlib.figure.Figure at 0x7ffa834b4080>"
      ]
     },
     "metadata": {},
     "output_type": "display_data"
    }
   ],
   "source": [
    "from catboost import CatBoostRegressor\n",
    "model = CatBoostRegressor(verbose=False, random_state=0)\n",
    "model.fit(x_train, y_train)\n",
    "predicted = model.predict(X_test)\n",
    "accuracy = r2_score(y_test, predicted)\n",
    "regressor_name = model.__class__.__name__\n",
    "print(f'Accuracy for {regressor_name} - {accuracy}')\n",
    "errors = np.round(np.abs(1 - predicted / y_test['cost'].values) * 100, 0)\n",
    "mean_error = np.mean(errors)\n",
    "max_error = errors.max()\n",
    "min_error = errors.min()\n",
    "c = Counter([x for x in errors])\n",
    "data = {'error': list(c.keys()), 'count': list(c.values())}\n",
    "df = pd.DataFrame.from_dict(data)\n",
    "sns.lmplot('count', 'error', data=df, fit_reg=False, markers=[\".\"])\n",
    "ax = plt.gca()\n",
    "ax.set_title(f'{regressor_name}\\nDetermination-{round(accuracy,3)}')"
   ]
  },
  {
   "cell_type": "markdown",
   "metadata": {},
   "source": [
    "# Cross-validation"
   ]
  },
  {
   "cell_type": "code",
   "execution_count": 9,
   "metadata": {},
   "outputs": [
    {
     "name": "stdout",
     "output_type": "stream",
     "text": [
      "Accuracy for LinearRegression - 0.6939594465172012\n",
      "Accuracy for CatBoostRegressor - 0.7439838443789393\n",
      "Accuracy for XGBRegressor - 0.7212568562820845\n",
      "Accuracy for AdaBoostRegressor - 0.6924071663923113\n"
     ]
    }
   ],
   "source": [
    "from sklearn.model_selection import  KFold\n",
    "cat = CatBoostRegressor(verbose=False, random_state=0)\n",
    "xgbtree = xgb.XGBRegressor(random_state=0)\n",
    "regr = linear_model.LinearRegression()\n",
    "adaboost = AdaBoostRegressor(DecisionTreeRegressor(random_state=0), random_state=0)\n",
    "for model in [regr, cat, xgbtree, adaboost]:\n",
    "    regressor_name = model.__class__.__name__\n",
    "    fold = KFold(n_splits=10, shuffle=True, random_state=0)\n",
    "    scores_on_this_split = cross_val_score(estimator=model, X=x_train, y=y_train, cv=fold, scoring='r2')\n",
    "    accuracy = scores_on_this_split.mean()\n",
    "    print(f'Accuracy for {regressor_name} - {accuracy}')"
   ]
  }
 ],
 "metadata": {
  "kernelspec": {
   "display_name": "Python 3",
   "language": "python",
   "name": "python3"
  },
  "language_info": {
   "codemirror_mode": {
    "name": "ipython",
    "version": 3
   },
   "file_extension": ".py",
   "mimetype": "text/x-python",
   "name": "python",
   "nbconvert_exporter": "python",
   "pygments_lexer": "ipython3",
   "version": "3.6.5"
  }
 },
 "nbformat": 4,
 "nbformat_minor": 2
}
